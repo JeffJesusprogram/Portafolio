{
  "nbformat": 4,
  "nbformat_minor": 0,
  "metadata": {
    "colab": {
      "provenance": []
    },
    "kernelspec": {
      "name": "python3",
      "display_name": "Python 3"
    },
    "language_info": {
      "name": "python"
    }
  },
  "cells": [
    {
      "cell_type": "code",
      "source": [
        "from google.colab import files\n",
        "uploaded = files.upload()"
      ],
      "metadata": {
        "colab": {
          "base_uri": "https://localhost:8080/",
          "height": 73
        },
        "id": "T_9ymirXl9mL",
        "outputId": "23568b8a-14dc-43ae-804f-b2fc822d0fa0"
      },
      "execution_count": 2,
      "outputs": [
        {
          "output_type": "display_data",
          "data": {
            "text/plain": [
              "<IPython.core.display.HTML object>"
            ],
            "text/html": [
              "\n",
              "     <input type=\"file\" id=\"files-a41dfa04-cdbd-4367-a572-f5e426ec3891\" name=\"files[]\" multiple disabled\n",
              "        style=\"border:none\" />\n",
              "     <output id=\"result-a41dfa04-cdbd-4367-a572-f5e426ec3891\">\n",
              "      Upload widget is only available when the cell has been executed in the\n",
              "      current browser session. Please rerun this cell to enable.\n",
              "      </output>\n",
              "      <script>// Copyright 2017 Google LLC\n",
              "//\n",
              "// Licensed under the Apache License, Version 2.0 (the \"License\");\n",
              "// you may not use this file except in compliance with the License.\n",
              "// You may obtain a copy of the License at\n",
              "//\n",
              "//      http://www.apache.org/licenses/LICENSE-2.0\n",
              "//\n",
              "// Unless required by applicable law or agreed to in writing, software\n",
              "// distributed under the License is distributed on an \"AS IS\" BASIS,\n",
              "// WITHOUT WARRANTIES OR CONDITIONS OF ANY KIND, either express or implied.\n",
              "// See the License for the specific language governing permissions and\n",
              "// limitations under the License.\n",
              "\n",
              "/**\n",
              " * @fileoverview Helpers for google.colab Python module.\n",
              " */\n",
              "(function(scope) {\n",
              "function span(text, styleAttributes = {}) {\n",
              "  const element = document.createElement('span');\n",
              "  element.textContent = text;\n",
              "  for (const key of Object.keys(styleAttributes)) {\n",
              "    element.style[key] = styleAttributes[key];\n",
              "  }\n",
              "  return element;\n",
              "}\n",
              "\n",
              "// Max number of bytes which will be uploaded at a time.\n",
              "const MAX_PAYLOAD_SIZE = 100 * 1024;\n",
              "\n",
              "function _uploadFiles(inputId, outputId) {\n",
              "  const steps = uploadFilesStep(inputId, outputId);\n",
              "  const outputElement = document.getElementById(outputId);\n",
              "  // Cache steps on the outputElement to make it available for the next call\n",
              "  // to uploadFilesContinue from Python.\n",
              "  outputElement.steps = steps;\n",
              "\n",
              "  return _uploadFilesContinue(outputId);\n",
              "}\n",
              "\n",
              "// This is roughly an async generator (not supported in the browser yet),\n",
              "// where there are multiple asynchronous steps and the Python side is going\n",
              "// to poll for completion of each step.\n",
              "// This uses a Promise to block the python side on completion of each step,\n",
              "// then passes the result of the previous step as the input to the next step.\n",
              "function _uploadFilesContinue(outputId) {\n",
              "  const outputElement = document.getElementById(outputId);\n",
              "  const steps = outputElement.steps;\n",
              "\n",
              "  const next = steps.next(outputElement.lastPromiseValue);\n",
              "  return Promise.resolve(next.value.promise).then((value) => {\n",
              "    // Cache the last promise value to make it available to the next\n",
              "    // step of the generator.\n",
              "    outputElement.lastPromiseValue = value;\n",
              "    return next.value.response;\n",
              "  });\n",
              "}\n",
              "\n",
              "/**\n",
              " * Generator function which is called between each async step of the upload\n",
              " * process.\n",
              " * @param {string} inputId Element ID of the input file picker element.\n",
              " * @param {string} outputId Element ID of the output display.\n",
              " * @return {!Iterable<!Object>} Iterable of next steps.\n",
              " */\n",
              "function* uploadFilesStep(inputId, outputId) {\n",
              "  const inputElement = document.getElementById(inputId);\n",
              "  inputElement.disabled = false;\n",
              "\n",
              "  const outputElement = document.getElementById(outputId);\n",
              "  outputElement.innerHTML = '';\n",
              "\n",
              "  const pickedPromise = new Promise((resolve) => {\n",
              "    inputElement.addEventListener('change', (e) => {\n",
              "      resolve(e.target.files);\n",
              "    });\n",
              "  });\n",
              "\n",
              "  const cancel = document.createElement('button');\n",
              "  inputElement.parentElement.appendChild(cancel);\n",
              "  cancel.textContent = 'Cancel upload';\n",
              "  const cancelPromise = new Promise((resolve) => {\n",
              "    cancel.onclick = () => {\n",
              "      resolve(null);\n",
              "    };\n",
              "  });\n",
              "\n",
              "  // Wait for the user to pick the files.\n",
              "  const files = yield {\n",
              "    promise: Promise.race([pickedPromise, cancelPromise]),\n",
              "    response: {\n",
              "      action: 'starting',\n",
              "    }\n",
              "  };\n",
              "\n",
              "  cancel.remove();\n",
              "\n",
              "  // Disable the input element since further picks are not allowed.\n",
              "  inputElement.disabled = true;\n",
              "\n",
              "  if (!files) {\n",
              "    return {\n",
              "      response: {\n",
              "        action: 'complete',\n",
              "      }\n",
              "    };\n",
              "  }\n",
              "\n",
              "  for (const file of files) {\n",
              "    const li = document.createElement('li');\n",
              "    li.append(span(file.name, {fontWeight: 'bold'}));\n",
              "    li.append(span(\n",
              "        `(${file.type || 'n/a'}) - ${file.size} bytes, ` +\n",
              "        `last modified: ${\n",
              "            file.lastModifiedDate ? file.lastModifiedDate.toLocaleDateString() :\n",
              "                                    'n/a'} - `));\n",
              "    const percent = span('0% done');\n",
              "    li.appendChild(percent);\n",
              "\n",
              "    outputElement.appendChild(li);\n",
              "\n",
              "    const fileDataPromise = new Promise((resolve) => {\n",
              "      const reader = new FileReader();\n",
              "      reader.onload = (e) => {\n",
              "        resolve(e.target.result);\n",
              "      };\n",
              "      reader.readAsArrayBuffer(file);\n",
              "    });\n",
              "    // Wait for the data to be ready.\n",
              "    let fileData = yield {\n",
              "      promise: fileDataPromise,\n",
              "      response: {\n",
              "        action: 'continue',\n",
              "      }\n",
              "    };\n",
              "\n",
              "    // Use a chunked sending to avoid message size limits. See b/62115660.\n",
              "    let position = 0;\n",
              "    do {\n",
              "      const length = Math.min(fileData.byteLength - position, MAX_PAYLOAD_SIZE);\n",
              "      const chunk = new Uint8Array(fileData, position, length);\n",
              "      position += length;\n",
              "\n",
              "      const base64 = btoa(String.fromCharCode.apply(null, chunk));\n",
              "      yield {\n",
              "        response: {\n",
              "          action: 'append',\n",
              "          file: file.name,\n",
              "          data: base64,\n",
              "        },\n",
              "      };\n",
              "\n",
              "      let percentDone = fileData.byteLength === 0 ?\n",
              "          100 :\n",
              "          Math.round((position / fileData.byteLength) * 100);\n",
              "      percent.textContent = `${percentDone}% done`;\n",
              "\n",
              "    } while (position < fileData.byteLength);\n",
              "  }\n",
              "\n",
              "  // All done.\n",
              "  yield {\n",
              "    response: {\n",
              "      action: 'complete',\n",
              "    }\n",
              "  };\n",
              "}\n",
              "\n",
              "scope.google = scope.google || {};\n",
              "scope.google.colab = scope.google.colab || {};\n",
              "scope.google.colab._files = {\n",
              "  _uploadFiles,\n",
              "  _uploadFilesContinue,\n",
              "};\n",
              "})(self);\n",
              "</script> "
            ]
          },
          "metadata": {}
        },
        {
          "output_type": "stream",
          "name": "stdout",
          "text": [
            "Saving CSVInvestigation.csv to CSVInvestigation.csv\n"
          ]
        }
      ]
    },
    {
      "cell_type": "code",
      "source": [
        "import pandas as pd\n",
        "import matplotlib.pyplot as plt\n",
        "import seaborn as sns"
      ],
      "metadata": {
        "id": "AuMV5dyRmDMN"
      },
      "execution_count": 3,
      "outputs": []
    },
    {
      "cell_type": "code",
      "source": [
        "df=pd.read_csv('/content/CSVInvestigation.csv')\n",
        "data=pd.DataFrame(df)\n",
        "print(data)"
      ],
      "metadata": {
        "colab": {
          "base_uri": "https://localhost:8080/"
        },
        "id": "zmUrO2cDmTov",
        "outputId": "a67c1f99-293d-4d49-8f19-fb0c769f35e0"
      },
      "execution_count": 6,
      "outputs": [
        {
          "output_type": "stream",
          "name": "stdout",
          "text": [
            "       ID      Country  Year  \\\n",
            "0       4  Afghanistan  2010   \n",
            "1       4  Afghanistan  2018   \n",
            "2       4  Afghanistan  2018   \n",
            "3       4  Afghanistan  2018   \n",
            "4       8      Albania  2005   \n",
            "...   ...          ...   ...   \n",
            "3558  716     Zimbabwe  2008   \n",
            "3559  716     Zimbabwe  2008   \n",
            "3560  716     Zimbabwe  2008   \n",
            "3561  716     Zimbabwe  2010   \n",
            "3562  716     Zimbabwe  2012   \n",
            "\n",
            "                                                 Series  Value Footnotes  \\\n",
            "0                Intentional homicide rates per 100,000    3.4       NaN   \n",
            "1                Intentional homicide rates per 100,000    6.7       NaN   \n",
            "2     Percentage of male and female intentional homi...   12.2       NaN   \n",
            "3     Percentage of male and female intentional homi...    0.8       NaN   \n",
            "4                Intentional homicide rates per 100,000    5.0       NaN   \n",
            "...                                                 ...    ...       ...   \n",
            "3558                Assault rate per 100,000 population  414.0       NaN   \n",
            "3559  Kidnapping at the national level, rate per 100...    1.8       NaN   \n",
            "3560  Theft at the national level, rate per 100,000 ...  738.8       NaN   \n",
            "3561             Intentional homicide rates per 100,000    5.6       NaN   \n",
            "3562             Intentional homicide rates per 100,000    7.5       NaN   \n",
            "\n",
            "                                                 Source  \n",
            "0     United Nations Office on Drugs and Crime (UNOD...  \n",
            "1     United Nations Office on Drugs and Crime (UNOD...  \n",
            "2     United Nations Office on Drugs and Crime (UNOD...  \n",
            "3     United Nations Office on Drugs and Crime (UNOD...  \n",
            "4     United Nations Office on Drugs and Crime (UNOD...  \n",
            "...                                                 ...  \n",
            "3558  United Nations Office on Drugs and Crime (UNOD...  \n",
            "3559  United Nations Office on Drugs and Crime (UNOD...  \n",
            "3560  United Nations Office on Drugs and Crime (UNOD...  \n",
            "3561  United Nations Office on Drugs and Crime (UNOD...  \n",
            "3562  United Nations Office on Drugs and Crime (UNOD...  \n",
            "\n",
            "[3563 rows x 7 columns]\n"
          ]
        }
      ]
    },
    {
      "cell_type": "code",
      "source": [
        "#5 paises con mayor indice de criminalidad\n",
        "dataFiltered=data.loc[(data['Series']==\"Intentional homicide rates per 100,000\")]\n",
        "print(dataFiltered.sort_values(by=['Value'],ascending=False)[['Country','Value']].head(5))"
      ],
      "metadata": {
        "colab": {
          "base_uri": "https://localhost:8080/"
        },
        "id": "s9bNz-Gkm5GI",
        "outputId": "f4d7d537-912e-4185-c9fb-13ee1c424aff"
      },
      "execution_count": 14,
      "outputs": [
        {
          "output_type": "stream",
          "name": "stdout",
          "text": [
            "                    Country  Value\n",
            "1099            El Salvador  105.2\n",
            "1448               Honduras   75.0\n",
            "2813  Saint Kitts and Nevis   68.8\n",
            "1091            El Salvador   64.5\n",
            "1085            El Salvador   64.1\n"
          ]
        }
      ]
    },
    {
      "cell_type": "code",
      "source": [
        "#5 paises con menor indice de criminalidad\n",
        "dataFiltered=data.loc[(data['Series']==\"Intentional homicide rates per 100,000\")]\n",
        "print(dataFiltered.sort_values(by=['Value'],ascending=True)[['Country','Value']].head(5))"
      ],
      "metadata": {
        "colab": {
          "base_uri": "https://localhost:8080/"
        },
        "id": "a0p2l1qdpbBW",
        "outputId": "0b954f36-7e3a-402a-8f18-17402dc05572"
      },
      "execution_count": 15,
      "outputs": [
        {
          "output_type": "stream",
          "name": "stdout",
          "text": [
            "                        Country  Value\n",
            "2196                 Montserrat    0.0\n",
            "3350   Turks and Caicos Islands    0.0\n",
            "2831  Saint Pierre and Miquelon    0.0\n",
            "3355                     Tuvalu    0.0\n",
            "2865                 San Marino    0.0\n"
          ]
        }
      ]
    },
    {
      "cell_type": "code",
      "source": [
        "#el crimen mas repetido por pais para 2018\n",
        "dataFiltered2018=data.loc[(data['Year']==2018)]\n",
        "print(dataFiltered2018)\n",
        "print(dataFiltered2018['Series'].value_counts())"
      ],
      "metadata": {
        "colab": {
          "base_uri": "https://localhost:8080/"
        },
        "id": "kuJVr1h7pgez",
        "outputId": "2f7a1291-823c-4146-ba13-2dfadd5cb7a5"
      },
      "execution_count": 23,
      "outputs": [
        {
          "output_type": "stream",
          "name": "stdout",
          "text": [
            "       ID                     Country  Year  \\\n",
            "1       4                 Afghanistan  2018   \n",
            "2       4                 Afghanistan  2018   \n",
            "3       4                 Afghanistan  2018   \n",
            "26      8                     Albania  2018   \n",
            "27      8                     Albania  2018   \n",
            "...   ...                         ...   ...   \n",
            "3534  862  Venezuela (Boliv. Rep. of)  2018   \n",
            "3535  862  Venezuela (Boliv. Rep. of)  2018   \n",
            "3536  862  Venezuela (Boliv. Rep. of)  2018   \n",
            "3537  862  Venezuela (Boliv. Rep. of)  2018   \n",
            "3538  862  Venezuela (Boliv. Rep. of)  2018   \n",
            "\n",
            "                                                 Series  Value Footnotes  \\\n",
            "1                Intentional homicide rates per 100,000    6.7       NaN   \n",
            "2     Percentage of male and female intentional homi...   12.2       NaN   \n",
            "3     Percentage of male and female intentional homi...    0.8       NaN   \n",
            "26               Intentional homicide rates per 100,000    2.3       NaN   \n",
            "27    Percentage of male and female intentional homi...    3.5       NaN   \n",
            "...                                                 ...    ...       ...   \n",
            "3534             Intentional homicide rates per 100,000   36.7       NaN   \n",
            "3535  Percentage of male and female intentional homi...   61.9       NaN   \n",
            "3536  Percentage of male and female intentional homi...   10.7       NaN   \n",
            "3537                Assault rate per 100,000 population    6.5       NaN   \n",
            "3538  Kidnapping at the national level, rate per 100...    0.7       NaN   \n",
            "\n",
            "                                                 Source  \n",
            "1     United Nations Office on Drugs and Crime (UNOD...  \n",
            "2     United Nations Office on Drugs and Crime (UNOD...  \n",
            "3     United Nations Office on Drugs and Crime (UNOD...  \n",
            "26    United Nations Office on Drugs and Crime (UNOD...  \n",
            "27    United Nations Office on Drugs and Crime (UNOD...  \n",
            "...                                                 ...  \n",
            "3534  United Nations Office on Drugs and Crime (UNOD...  \n",
            "3535  United Nations Office on Drugs and Crime (UNOD...  \n",
            "3536  United Nations Office on Drugs and Crime (UNOD...  \n",
            "3537  United Nations Office on Drugs and Crime (UNOD...  \n",
            "3538  United Nations Office on Drugs and Crime (UNOD...  \n",
            "\n",
            "[462 rows x 7 columns]\n",
            "Intentional homicide rates per 100,000                                91\n",
            "Assault rate per 100,000 population                                   82\n",
            "Theft at the national level, rate per 100,000 population              75\n",
            "Percentage of male and female intentional homicide victims, Male      74\n",
            "Percentage of male and female intentional homicide victims, Female    73\n",
            "Kidnapping at the national level, rate per 100,000                    67\n",
            "Name: Series, dtype: int64\n"
          ]
        }
      ]
    },
    {
      "cell_type": "code",
      "source": [
        "#crimen con el porcentaje mas alto en cr en el annio 2005\n",
        "dataFilteredCR=data.loc[(data['Country']==\"Costa Rica\")&(data['Year']==2005)]\n",
        "print(dataFilteredCR)\n",
        "print(dataFilteredCR.sort_values(by=['Value'],ascending=False)[['Country','Series','Value']])"
      ],
      "metadata": {
        "colab": {
          "base_uri": "https://localhost:8080/"
        },
        "id": "H3FENEXhrtr2",
        "outputId": "2af5f51c-e4dc-424b-c659-ffe0c47011d6"
      },
      "execution_count": 25,
      "outputs": [
        {
          "output_type": "stream",
          "name": "stdout",
          "text": [
            "      ID     Country  Year                                             Series  \\\n",
            "844  188  Costa Rica  2005             Intentional homicide rates per 100,000   \n",
            "845  188  Costa Rica  2005  Percentage of male and female intentional homi...   \n",
            "846  188  Costa Rica  2005  Percentage of male and female intentional homi...   \n",
            "847  188  Costa Rica  2005  Kidnapping at the national level, rate per 100...   \n",
            "848  188  Costa Rica  2005  Theft at the national level, rate per 100,000 ...   \n",
            "\n",
            "     Value Footnotes                                             Source  \n",
            "844    7.8       NaN  United Nations Office on Drugs and Crime (UNOD...  \n",
            "845   12.7       NaN  United Nations Office on Drugs and Crime (UNOD...  \n",
            "846    2.9       NaN  United Nations Office on Drugs and Crime (UNOD...  \n",
            "847    0.3       NaN  United Nations Office on Drugs and Crime (UNOD...  \n",
            "848  195.1       NaN  United Nations Office on Drugs and Crime (UNOD...  \n",
            "        Country                                             Series  Value\n",
            "848  Costa Rica  Theft at the national level, rate per 100,000 ...  195.1\n",
            "845  Costa Rica  Percentage of male and female intentional homi...   12.7\n",
            "844  Costa Rica             Intentional homicide rates per 100,000    7.8\n",
            "846  Costa Rica  Percentage of male and female intentional homi...    2.9\n",
            "847  Costa Rica  Kidnapping at the national level, rate per 100...    0.3\n"
          ]
        }
      ]
    },
    {
      "cell_type": "code",
      "source": [
        "#comparativa entre CR, NIC y PAN por medio de la tasa\n",
        "registo=df.loc[(df[\"Country\"]==\"Costa Rica\")|(df[\"Country\"]==\"Panama\")|(df[\"Country\"]==\"Nicaragua\")]\n",
        "print(registo)\n"
      ],
      "metadata": {
        "colab": {
          "base_uri": "https://localhost:8080/"
        },
        "id": "VLlqIDFEsqKZ",
        "outputId": "6b08c2a2-c0eb-4c48-8574-2cf0ac93c667"
      },
      "execution_count": 28,
      "outputs": [
        {
          "output_type": "stream",
          "name": "stdout",
          "text": [
            "       ID     Country  Year  \\\n",
            "844   188  Costa Rica  2005   \n",
            "845   188  Costa Rica  2005   \n",
            "846   188  Costa Rica  2005   \n",
            "847   188  Costa Rica  2005   \n",
            "848   188  Costa Rica  2005   \n",
            "...   ...         ...   ...   \n",
            "2488  591      Panama  2018   \n",
            "2489  591      Panama  2018   \n",
            "2490  591      Panama  2018   \n",
            "2491  591      Panama  2018   \n",
            "2492  591      Panama  2018   \n",
            "\n",
            "                                                 Series  Value Footnotes  \\\n",
            "844              Intentional homicide rates per 100,000    7.8       NaN   \n",
            "845   Percentage of male and female intentional homi...   12.7       NaN   \n",
            "846   Percentage of male and female intentional homi...    2.9       NaN   \n",
            "847   Kidnapping at the national level, rate per 100...    0.3       NaN   \n",
            "848   Theft at the national level, rate per 100,000 ...  195.1       NaN   \n",
            "...                                                 ...    ...       ...   \n",
            "2488  Percentage of male and female intentional homi...   17.0       NaN   \n",
            "2489  Percentage of male and female intentional homi...    1.8       NaN   \n",
            "2490                Assault rate per 100,000 population  102.1       NaN   \n",
            "2491  Kidnapping at the national level, rate per 100...    0.4       NaN   \n",
            "2492  Theft at the national level, rate per 100,000 ...  395.7       NaN   \n",
            "\n",
            "                                                 Source  \n",
            "844   United Nations Office on Drugs and Crime (UNOD...  \n",
            "845   United Nations Office on Drugs and Crime (UNOD...  \n",
            "846   United Nations Office on Drugs and Crime (UNOD...  \n",
            "847   United Nations Office on Drugs and Crime (UNOD...  \n",
            "848   United Nations Office on Drugs and Crime (UNOD...  \n",
            "...                                                 ...  \n",
            "2488  United Nations Office on Drugs and Crime (UNOD...  \n",
            "2489  United Nations Office on Drugs and Crime (UNOD...  \n",
            "2490  United Nations Office on Drugs and Crime (UNOD...  \n",
            "2491  United Nations Office on Drugs and Crime (UNOD...  \n",
            "2492  United Nations Office on Drugs and Crime (UNOD...  \n",
            "\n",
            "[73 rows x 7 columns]\n"
          ]
        }
      ]
    },
    {
      "cell_type": "code",
      "source": [
        "registro=df[\"Year\"]\n",
        "annio=registro.mode()\n",
        "print(annio)\n"
      ],
      "metadata": {
        "colab": {
          "base_uri": "https://localhost:8080/"
        },
        "id": "kR9Me6NQt4_9",
        "outputId": "f440138c-a51e-4db7-e4d8-54a833d13489"
      },
      "execution_count": 30,
      "outputs": [
        {
          "output_type": "stream",
          "name": "stdout",
          "text": [
            "0    2010\n",
            "Name: Year, dtype: int64\n"
          ]
        }
      ]
    },
    {
      "cell_type": "code",
      "source": [
        "#Genero más afectado en crimenes en promedio en el año 2018.\n",
        "print()\n",
        "print()\n",
        "print('H-Genero más afectado en crimenes en promedio en el año 2018')\n",
        "dataFilteredByGender=dataFiltered2018.loc[((dataFiltered2018['Series']==\"Percentage of male and female intentional homicide victims, Male\")\n",
        "|(dataFiltered2018['Series']==\"Percentage of male and female intentional homicide victims, Female\"))].groupby('Series')['Value']\n",
        "print(dataFilteredByGender.mean())"
      ],
      "metadata": {
        "colab": {
          "base_uri": "https://localhost:8080/"
        },
        "id": "7bpnGGn7uvQY",
        "outputId": "6506ac3f-cf69-4d0e-9a7f-8e610fb7122e"
      },
      "execution_count": 33,
      "outputs": [
        {
          "output_type": "stream",
          "name": "stdout",
          "text": [
            "\n",
            "\n",
            "H-Genero más afectado en crimenes en promedio en el año 2018\n",
            "Series\n",
            "Percentage of male and female intentional homicide victims, Female    1.697260\n",
            "Percentage of male and female intentional homicide victims, Male      8.908108\n",
            "Name: Value, dtype: float64\n"
          ]
        }
      ]
    },
    {
      "cell_type": "code",
      "source": [
        "#Genero más afectado en crimenes en promedio en el año 2018.\n",
        "\n",
        "# Filtra los datos para obtener solo las filas correspondientes al año 2018 y los géneros masculino y femenino\n",
        "data_filtered = data.loc[((data['Year'] == 2018) & ((data['Series'] == \"Percentage of male and female intentional homicide victims, Male\") | (data['Series'] == \"Percentage of male and female intentional homicide victims, Female\")))]\n",
        "\n",
        "# Agrupa los datos por serie y calcula la media de los valores correspondientes a cada género\n",
        "gender_totals = data_filtered.groupby('Series')['Value'].mean()\n",
        "print(gender_totals)\n",
        "\n",
        "# Encuentra el género con el valor máximo\n",
        "most_affected_gender = gender_totals.idxmax()\n",
        "print(most_affected_gender)\n",
        "print(\"El género más afectado en los crímenes en el año 2018 es:\", most_affected_gender)\n"
      ],
      "metadata": {
        "colab": {
          "base_uri": "https://localhost:8080/"
        },
        "id": "J6Lf26upzPSV",
        "outputId": "7b24d457-ca5d-4c32-a1a3-fb673db508f2"
      },
      "execution_count": 36,
      "outputs": [
        {
          "output_type": "stream",
          "name": "stdout",
          "text": [
            "Series\n",
            "Percentage of male and female intentional homicide victims, Female    1.697260\n",
            "Percentage of male and female intentional homicide victims, Male      8.908108\n",
            "Name: Value, dtype: float64\n",
            "Percentage of male and female intentional homicide victims, Male\n",
            "El género más afectado en los crímenes en el año 2018 es: Percentage of male and female intentional homicide victims, Male\n"
          ]
        }
      ]
    }
  ]
}